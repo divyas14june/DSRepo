{
  "metadata": {
    "kernelspec": {
      "name": "python",
      "display_name": "Python (Pyodide)",
      "language": "python"
    },
    "language_info": {
      "codemirror_mode": {
        "name": "python",
        "version": 3
      },
      "file_extension": ".py",
      "mimetype": "text/x-python",
      "name": "python",
      "nbconvert_exporter": "python",
      "pygments_lexer": "ipython3",
      "version": "3.8"
    }
  },
  "nbformat_minor": 5,
  "nbformat": 4,
  "cells": [
    {
      "id": "d3131ff0-8366-4fbf-87ff-a78eeb376227",
      "cell_type": "markdown",
      "source": "# Data Science Tools and Ecosystem",
      "metadata": {}
    },
    {
      "id": "1c43a15f-2a6d-4243-8642-a8a6c074fb35",
      "cell_type": "markdown",
      "source": "# In this notebook, Data Science Tools and Ecosystem are summarized.",
      "metadata": {}
    },
    {
      "id": "5712f3b9-d385-4660-b517-b30bbc7f7618",
      "cell_type": "markdown",
      "source": "# Some of the popular languages that Data Scientists use are:\n\n1. Python\n2. R\n3. SQL\n4. Julia\n5. Scala\n",
      "metadata": {}
    },
    {
      "id": "04948a38-1bce-45cb-8c8d-65d1dd6320c3",
      "cell_type": "markdown",
      "source": "# Some of the commonly used libraries used by Data Scientists include:\n\n1. NumPy  \n2. pandas  \n3. Matplotlib  \n4. scikit-learn  \n5. TensorFlow  \n",
      "metadata": {}
    },
    {
      "id": "571691c8-77d8-4cb3-9187-cb50c70f7a0d",
      "cell_type": "markdown",
      "source": "<table width=\"20%\">\n  <tr>\n    <th>Data Science Tools</th>\n  </tr>\n  <tr>\n    <td>Jupyter Notebook</td>\n  </tr>\n  <tr>\n    <td>RStudio</td>\n  </tr>\n  <tr>\n    <td>Apache Zeppelin</td>\n  </tr>\n</table>\n",
      "metadata": {}
    },
    {
      "id": "9fd7119e-105d-4fcd-83f3-80a7bc527349",
      "cell_type": "markdown",
      "source": "### Below are a few examples of evaluating arithmetic expressions in Python\n",
      "metadata": {}
    },
    {
      "id": "dfa69de4-d77e-4b14-bab8-69cee70367be",
      "cell_type": "markdown",
      "source": "# This is a simple arithmetic expression to multiply then add integers\n(3*4) + 5\n",
      "metadata": {}
    },
    {
      "id": "a4e4ee01-ae68-43dc-9a26-70a726e827d7",
      "cell_type": "markdown",
      "source": "# This will convert 200 minutes to hours by dividing by 60\n200 / 60\n",
      "metadata": {}
    },
    {
      "id": "c13eaa40-3060-4521-8d83-8b0815fede17",
      "cell_type": "markdown",
      "source": "<strong>Objectives:</strong>\n<ul>\n  <li>List popular languages for Data Science</li>\n  <li>Identify key Data Science tools</li>\n  <li>Perform basic arithmetic operations in Python</li>\n  <li>Convert minutes to hours</li>\n  <li>Create and format HTML tables for data presentation</li>\n</ul>\n",
      "metadata": {}
    },
    {
      "id": "e7e58f35-e4cd-4c8a-95ff-22059dcf4694",
      "cell_type": "markdown",
      "source": "## Author\n\nDivya S",
      "metadata": {}
    }
  ]
}